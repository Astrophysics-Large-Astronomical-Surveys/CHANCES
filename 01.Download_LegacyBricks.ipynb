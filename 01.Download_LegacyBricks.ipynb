{
 "cells": [
  {
   "cell_type": "code",
   "execution_count": 34,
   "id": "fd29c2ca-814c-4cf1-a733-846f4c24678b",
   "metadata": {},
   "outputs": [],
   "source": [
    "from urllib.error import HTTPError\n",
    "from urllib import request\n",
    "\n",
    "import pandas as pd\n",
    "import os\n",
    "\n",
    "from astropy.coordinates import SkyCoord\n",
    "from astropy import units as u\n",
    "\n",
    "home = '/home/jpcalderon/2024/CHANCES/'\n",
    "datadir = home + 'data/'\n",
    "tablesdir = home + 'tables/'\n",
    "figuresdir = home + 'figures/'\n",
    "\n",
    "bands = [ 'g', 'r', 'i', 'z' ]\n",
    "\n",
    "center_coords = SkyCoord.from_name('NGC 1399')\n",
    "center_ra = center_coords.ra.deg; center_dec =  center_coords.dec.deg\n",
    "\n",
    "bricks = pd.read_csv ( tablesdir + 'Bricks_DECaLS_Fornax.csv' )\n",
    "bricks['separation'] = SkyCoord ( bricks[['ra','dec']].values, unit = (u.deg, u.deg)).separation( SkyCoord.from_name('NGC 1399')).arcsec"
   ]
  },
  {
   "cell_type": "markdown",
   "id": "afc8a05c-5714-4253-bb6a-fd02714f6cc0",
   "metadata": {},
   "source": [
    "Ordena los bricks por distancia a NGC 1399 y descargar los 10 primeros, en todas las bandas."
   ]
  },
  {
   "cell_type": "code",
   "execution_count": 53,
   "id": "2b52085c-e034-41bc-ae10-91af9b8471f3",
   "metadata": {},
   "outputs": [
    {
     "name": "stdout",
     "output_type": "stream",
     "text": [
      "[**] Downloading... /home/jpcalderon/2024/CHANCES/data/NewLegacy/0546m355_g.fits.fz\n",
      "[**] Downloaded! /home/jpcalderon/2024/CHANCES/data/NewLegacy/0546m355_r.fits.fz\n",
      "[**] Downloading... /home/jpcalderon/2024/CHANCES/data/NewLegacy/0546m355_i.fits.fz\n",
      "[**] Downloading... /home/jpcalderon/2024/CHANCES/data/NewLegacy/0546m355_z.fits.fz\n",
      "[**] Downloading... /home/jpcalderon/2024/CHANCES/data/NewLegacy/0545m352_g.fits.fz\n",
      "[**] Downloading... /home/jpcalderon/2024/CHANCES/data/NewLegacy/0545m352_r.fits.fz\n",
      "[**] Downloading... /home/jpcalderon/2024/CHANCES/data/NewLegacy/0545m352_i.fits.fz\n",
      "[**] Downloading... /home/jpcalderon/2024/CHANCES/data/NewLegacy/0545m352_z.fits.fz\n",
      "[**] Downloading... /home/jpcalderon/2024/CHANCES/data/NewLegacy/0543m355_g.fits.fz\n",
      "[**] Downloading... /home/jpcalderon/2024/CHANCES/data/NewLegacy/0543m355_r.fits.fz\n",
      "[**] Downloading... /home/jpcalderon/2024/CHANCES/data/NewLegacy/0543m355_i.fits.fz\n",
      "[**] Downloading... /home/jpcalderon/2024/CHANCES/data/NewLegacy/0543m355_z.fits.fz\n",
      "[**] Downloading... /home/jpcalderon/2024/CHANCES/data/NewLegacy/0549m355_g.fits.fz\n",
      "[**] Downloading... /home/jpcalderon/2024/CHANCES/data/NewLegacy/0549m355_r.fits.fz\n",
      "[**] Downloading... /home/jpcalderon/2024/CHANCES/data/NewLegacy/0549m355_i.fits.fz\n",
      "[**] Downloading... /home/jpcalderon/2024/CHANCES/data/NewLegacy/0549m355_z.fits.fz\n",
      "[**] Downloading... /home/jpcalderon/2024/CHANCES/data/NewLegacy/0548m352_g.fits.fz\n",
      "[**] Downloading... /home/jpcalderon/2024/CHANCES/data/NewLegacy/0548m352_r.fits.fz\n",
      "[**] Downloading... /home/jpcalderon/2024/CHANCES/data/NewLegacy/0548m352_i.fits.fz\n",
      "[**] Downloading... /home/jpcalderon/2024/CHANCES/data/NewLegacy/0548m352_z.fits.fz\n",
      "[**] Downloading... /home/jpcalderon/2024/CHANCES/data/NewLegacy/0545m357_g.fits.fz\n",
      "[**] Downloading... /home/jpcalderon/2024/CHANCES/data/NewLegacy/0545m357_r.fits.fz\n",
      "[**] Downloading... /home/jpcalderon/2024/CHANCES/data/NewLegacy/0545m357_i.fits.fz\n",
      "[**] Downloading... /home/jpcalderon/2024/CHANCES/data/NewLegacy/0545m357_z.fits.fz\n",
      "[**] Downloading... /home/jpcalderon/2024/CHANCES/data/NewLegacy/0548m357_g.fits.fz\n",
      "[**] Downloading... /home/jpcalderon/2024/CHANCES/data/NewLegacy/0548m357_r.fits.fz\n",
      "[**] Downloading... /home/jpcalderon/2024/CHANCES/data/NewLegacy/0548m357_i.fits.fz\n",
      "[**] Downloading... /home/jpcalderon/2024/CHANCES/data/NewLegacy/0548m357_z.fits.fz\n",
      "[**] Downloading... /home/jpcalderon/2024/CHANCES/data/NewLegacy/0542m352_g.fits.fz\n",
      "[**] Downloading... /home/jpcalderon/2024/CHANCES/data/NewLegacy/0542m352_r.fits.fz\n",
      "[**] Downloading... /home/jpcalderon/2024/CHANCES/data/NewLegacy/0542m352_i.fits.fz\n",
      "[**] Downloading... /home/jpcalderon/2024/CHANCES/data/NewLegacy/0542m352_z.fits.fz\n",
      "[**] Downloading... /home/jpcalderon/2024/CHANCES/data/NewLegacy/0542m357_g.fits.fz\n",
      "[**] Downloading... /home/jpcalderon/2024/CHANCES/data/NewLegacy/0542m357_r.fits.fz\n",
      "[**] Downloading... /home/jpcalderon/2024/CHANCES/data/NewLegacy/0542m357_i.fits.fz\n",
      "[**] Downloading... /home/jpcalderon/2024/CHANCES/data/NewLegacy/0542m357_z.fits.fz\n",
      "[**] Downloading... /home/jpcalderon/2024/CHANCES/data/NewLegacy/0546m350_g.fits.fz\n",
      "[**] Downloading... /home/jpcalderon/2024/CHANCES/data/NewLegacy/0546m350_r.fits.fz\n",
      "[**] Downloading... /home/jpcalderon/2024/CHANCES/data/NewLegacy/0546m350_i.fits.fz\n",
      "[**] Downloading... /home/jpcalderon/2024/CHANCES/data/NewLegacy/0546m350_z.fits.fz\n"
     ]
    }
   ],
   "source": [
    "for brick in bricks.sort_values('separation')['brickname'][:10]:\n",
    "    for band in bands:\n",
    "        LEGACY_GetBrick(brick, band, datadir + 'NewLegacy/', dr = 'dr10') \n",
    "print ( '[*] Done!' )"
   ]
  },
  {
   "cell_type": "code",
   "execution_count": 43,
   "id": "94bf0351-8ad3-4a12-84e6-0ecfada50ffc",
   "metadata": {},
   "outputs": [],
   "source": [
    "def LEGACY_GetBrick(brickname, band, fits_dir, dr = 'dr10'):\n",
    "    legacy_url0 = 'https://portal.nersc.gov/cfs/cosmo/data/legacysurvey/' + dr + '/south/coadd/'\n",
    "    legacy_url1 = brickname[:3] + '/' + brickname + '/legacysurvey-' + brickname + '-image-' + band + '.fits.fz'\n",
    "\n",
    "    image = fits_dir + f\"{brickname}_{band}.fits.fz\"\n",
    "    \n",
    "    if not os.path.exists(image):\n",
    "        try:\n",
    "            print ( f'[**] Downloading... {image}' )\n",
    "            handler = request.urlretrieve ( legacy_url0 + legacy_url1, image )\n",
    "        except HTTPError as e:\n",
    "            content = e.read()\n",
    "            print ( f'[!!] Error while download: {image}' ) \n",
    "            pass  # or you could use 'continue'\n",
    "    else:\n",
    "        print ( f'[**] Downloaded! {image}' )"
   ]
  },
  {
   "cell_type": "code",
   "execution_count": null,
   "id": "5cfad277-0464-42c4-a65e-77555bd9ee40",
   "metadata": {},
   "outputs": [],
   "source": []
  }
 ],
 "metadata": {
  "kernelspec": {
   "display_name": "Python 3 (ipykernel)",
   "language": "python",
   "name": "python3"
  },
  "language_info": {
   "codemirror_mode": {
    "name": "ipython",
    "version": 3
   },
   "file_extension": ".py",
   "mimetype": "text/x-python",
   "name": "python",
   "nbconvert_exporter": "python",
   "pygments_lexer": "ipython3",
   "version": "3.10.12"
  }
 },
 "nbformat": 4,
 "nbformat_minor": 5
}
