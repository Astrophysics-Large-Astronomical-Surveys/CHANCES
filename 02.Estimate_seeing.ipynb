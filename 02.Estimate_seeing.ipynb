{
 "cells": [
  {
   "cell_type": "code",
   "execution_count": 95,
   "id": "73be8d97-ac79-4567-b671-fa87a3e9411d",
   "metadata": {},
   "outputs": [],
   "source": [
    "from astropy.coordinates import SkyCoord\n",
    "from astropy.io import fits\n",
    "from astropy.wcs import WCS\n",
    "from astropy import units as u\n",
    "\n",
    "from photutils.aperture import SkyCircularAperture\n",
    "\n",
    "import numpy as np\n",
    "import os\n",
    "import glob\n",
    "import json \n",
    "\n",
    "import logging\n",
    "logger = logging.getLogger(\"astroquery\")\n",
    "logger.setLevel(logging.CRITICAL)\n",
    "\n",
    "home = '/home/jpcalderon/2024/CHANCES/'\n",
    "datadir = home + 'data/'\n",
    "tablesdir = home + 'tables/'\n",
    "figuresdir = home + 'figures/'\n",
    "\n",
    "bands = [ 'g', 'r', 'i', 'z' ]"
   ]
  },
  {
   "cell_type": "code",
   "execution_count": 153,
   "id": "c6a3514a-6c45-4d5d-b9e2-a8fb24f6cfa1",
   "metadata": {
    "collapsed": true,
    "jupyter": {
     "outputs_hidden": true
    }
   },
   "outputs": [
    {
     "name": "stdout",
     "output_type": "stream",
     "text": [
      "INFO: Query finished. [astroquery.utils.tap.core]\n",
      "INFO: Query finished. [astroquery.utils.tap.core]\n",
      "INFO: Query finished. [astroquery.utils.tap.core]\n",
      "INFO: Query finished. [astroquery.utils.tap.core]\n",
      "INFO: Query finished. [astroquery.utils.tap.core]\n",
      "INFO: Query finished. [astroquery.utils.tap.core]\n",
      "INFO: Query finished. [astroquery.utils.tap.core]\n",
      "INFO: Query finished. [astroquery.utils.tap.core]\n",
      "INFO: Query finished. [astroquery.utils.tap.core]\n",
      "INFO: Query finished. [astroquery.utils.tap.core]\n",
      "INFO: Query finished. [astroquery.utils.tap.core]\n",
      "INFO: Query finished. [astroquery.utils.tap.core]\n",
      "INFO: Query finished. [astroquery.utils.tap.core]\n",
      "INFO: Query finished. [astroquery.utils.tap.core]\n",
      "INFO: Query finished. [astroquery.utils.tap.core]\n",
      "INFO: Query finished. [astroquery.utils.tap.core]\n",
      "INFO: Query finished. [astroquery.utils.tap.core]\n",
      "INFO: Query finished. [astroquery.utils.tap.core]\n",
      "INFO: Query finished. [astroquery.utils.tap.core]\n",
      "INFO: Query finished. [astroquery.utils.tap.core]\n",
      "INFO: Query finished. [astroquery.utils.tap.core]\n",
      "INFO: Query finished. [astroquery.utils.tap.core]\n",
      "INFO: Query finished. [astroquery.utils.tap.core]\n",
      "INFO: Query finished. [astroquery.utils.tap.core]\n",
      "INFO: Query finished. [astroquery.utils.tap.core]\n",
      "INFO: Query finished. [astroquery.utils.tap.core]\n",
      "INFO: Query finished. [astroquery.utils.tap.core]\n",
      "INFO: Query finished. [astroquery.utils.tap.core]\n",
      "INFO: Query finished. [astroquery.utils.tap.core]\n",
      "INFO: Query finished. [astroquery.utils.tap.core]\n",
      "INFO: Query finished. [astroquery.utils.tap.core]\n",
      "INFO: Query finished. [astroquery.utils.tap.core]\n",
      "INFO: Query finished. [astroquery.utils.tap.core]\n",
      "INFO: Query finished. [astroquery.utils.tap.core]\n",
      "INFO: Query finished. [astroquery.utils.tap.core]\n",
      "INFO: Query finished. [astroquery.utils.tap.core]\n",
      "INFO: Query finished. [astroquery.utils.tap.core]\n",
      "INFO: Query finished. [astroquery.utils.tap.core]\n",
      "INFO: Query finished. [astroquery.utils.tap.core]\n",
      "INFO: Query finished. [astroquery.utils.tap.core]\n"
     ]
    }
   ],
   "source": [
    "param = {}\n",
    "for file in glob.glob (datadir + 'NewLegacy/*fz'):\n",
    "    param[os.path.basename(file)] = GetFWHM (file)"
   ]
  },
  {
   "cell_type": "code",
   "execution_count": 158,
   "id": "76f98b4d-16c2-42e6-98d8-a05f8aa819fc",
   "metadata": {},
   "outputs": [],
   "source": [
    "with open('param.json', 'w') as convert_file: \n",
    "     convert_file.write(json.dumps(str(param)))\n",
    "\n",
    "# reading the data from the file \n",
    "# with open('param.json') as f: \n",
    "#     d = f.read() \n",
    "# js = json.loads(d)"
   ]
  },
  {
   "cell_type": "markdown",
   "id": "dcfed696-8a59-4104-95e2-192093cc13f2",
   "metadata": {},
   "source": [
    "---\n",
    "## Funciones"
   ]
  },
  {
   "cell_type": "code",
   "execution_count": 141,
   "id": "e8528c9f-0936-4e4c-bbf9-e88dc85bcb6f",
   "metadata": {},
   "outputs": [],
   "source": [
    "def GetFWHM (img):\n",
    "    n, fwhm = 0, 1 * u.arcsec\n",
    "    with fits.open ( img ) as hdul:\n",
    "        data = hdul[1].data\n",
    "        header = hdul[1].header\n",
    "\n",
    "    coords = get_GaiaStars ( img, header )\n",
    "    if len(coords) != 0:\n",
    "        positions = SkyCoord( coords['ra'].tolist() * u.deg, coords['dec'].tolist() * u.deg, frame = 'fk5' )\n",
    "    \n",
    "        aperture = SkyCircularAperture ( positions, r = 1.0 * u.arcsec )\n",
    "        aperstats = ApertureStats ( data, aperture, wcs = WCS(header) ) \n",
    "        n, fwhm = len(aperstats), aperstats.fwhm.mean()\n",
    "    return n, fwhm.value, data.min(), data.max()\n",
    "\n",
    "def get_GaiaStars ( img, header ):\n",
    "    # Query tomado de: https://arxiv.org/pdf/1804.09378.pdf\n",
    "    from astroquery.gaia import Gaia\n",
    "    Gaia.ROW_LIMIT = 100\n",
    "\n",
    "    ra, dec = str(header['CENTRA']), str(header['CENTDEC'])\n",
    "    width = str(np.abs(header['CORN2RA']-header['CORN1RA']))\n",
    "    height = str(np.abs(header['CORN3DEC']-header['CORN2DEC']))\n",
    "\n",
    "    query = \"SELECT * \\\n",
    "             from gaiaedr3.gaia_source \\\n",
    "             where 1 = CONTAINS( POINT ( 'ICRS', ra, dec ), BOX ( 'ICRS', \" + ra + \", \" + dec + \", \" + width + \", \" + height + \" ) ) \\\n",
    "              AND parallax_over_error > 10 \\\n",
    "              AND phot_g_mean_flux_over_error>50 \\\n",
    "              AND phot_rp_mean_flux_over_error>20 \\\n",
    "              AND phot_bp_mean_flux_over_error>20 \\\n",
    "              AND phot_bp_rp_excess_factor < 1.3+0.06*power(phot_bp_mean_mag-phot_rp_mean_mag,2) \\\n",
    "              AND phot_bp_rp_excess_factor > 1.0+0.015*power(phot_bp_mean_mag-phot_rp_mean_mag,2) \\\n",
    "              AND visibility_periods_used>8 \\\n",
    "              AND astrometric_chi2_al/(astrometric_n_good_obs_al-5)<1.44*greatest(1,exp(-0.4*(phot_g_mean_mag-19.5)))\"\n",
    "\n",
    "    job = Gaia.launch_job_async ( query, verbose = False ).get_results()\n",
    "    return job[['ra', 'dec']]"
   ]
  },
  {
   "cell_type": "code",
   "execution_count": null,
   "id": "c0d2424b-9600-4e12-a6cf-0f17c3875a14",
   "metadata": {},
   "outputs": [],
   "source": []
  }
 ],
 "metadata": {
  "kernelspec": {
   "display_name": "Python 3 (ipykernel)",
   "language": "python",
   "name": "python3"
  },
  "language_info": {
   "codemirror_mode": {
    "name": "ipython",
    "version": 3
   },
   "file_extension": ".py",
   "mimetype": "text/x-python",
   "name": "python",
   "nbconvert_exporter": "python",
   "pygments_lexer": "ipython3",
   "version": "3.10.12"
  }
 },
 "nbformat": 4,
 "nbformat_minor": 5
}
